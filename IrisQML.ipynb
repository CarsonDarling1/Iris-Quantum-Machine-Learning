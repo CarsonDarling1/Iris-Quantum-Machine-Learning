{
 "cells": [
  {
   "cell_type": "code",
   "execution_count": 1,
   "id": "4f7257bc",
   "metadata": {},
   "outputs": [],
   "source": [
    "import pennylane as qml\n",
    "from pennylane import numpy as np\n",
    "from pennylane.optimize import NesterovMomentumOptimizer\n",
    "from pennylane import AngleEmbedding"
   ]
  },
  {
   "cell_type": "code",
   "execution_count": 2,
   "id": "c56a6176",
   "metadata": {},
   "outputs": [],
   "source": [
    "dev = qml.device(\"default.qubit\", wires=2)"
   ]
  },
  {
   "cell_type": "code",
   "execution_count": 3,
   "id": "7fc4ca44",
   "metadata": {},
   "outputs": [],
   "source": [
    "def get_angles(x):\n",
    "\n",
    "    beta0 = 2 * np.arcsin(np.sqrt(x[1] ** 2) / np.sqrt(x[0] ** 2 + x[1] ** 2 + 1e-12))\n",
    "    beta1 = 2 * np.arcsin(np.sqrt(x[3] ** 2) / np.sqrt(x[2] ** 2 + x[3] ** 2 + 1e-12))\n",
    "    beta2 = 2 * np.arcsin(\n",
    "        np.sqrt(x[2] ** 2 + x[3] ** 2)\n",
    "        / np.sqrt(x[0] ** 2 + x[1] ** 2 + x[2] ** 2 + x[3] ** 2)\n",
    "    )\n",
    "\n",
    "    return np.array([beta2, -beta1 / 2, beta1 / 2, -beta0 / 2, beta0 / 2])\n",
    "\n",
    "#def rot(x):\n",
    "    \n",
    "\n",
    "def statepreparation(a):\n",
    "    qml.RY(a[0], wires=0)\n",
    "\n",
    "    qml.CNOT(wires=[0, 1])\n",
    "    qml.RY(a[1], wires=1)\n",
    "    qml.CNOT(wires=[0, 1])\n",
    "    qml.RY(a[2], wires=1)\n",
    "\n",
    "    qml.PauliX(wires=0)\n",
    "    qml.CNOT(wires=[0, 1])\n",
    "    qml.RY(a[3], wires=1)\n",
    "    qml.CNOT(wires=[0, 1])\n",
    "    qml.RY(a[4], wires=1)\n",
    "    qml.PauliX(wires=0)"
   ]
  },
  {
   "cell_type": "code",
   "execution_count": 4,
   "id": "33a9cc26",
   "metadata": {},
   "outputs": [
    {
     "name": "stdout",
     "output_type": "stream",
     "text": [
      "x               :  [0.53896774 0.79503606 0.27826503 0.        ]\n",
      "angles          :  [ 0.56397465 -0.          0.         -0.97504604  0.97504604]\n",
      "amplitude vector:  [ 5.38967743e-01  7.95036065e-01  2.78265032e-01 -2.77555756e-17]\n"
     ]
    }
   ],
   "source": [
    "x = np.array([0.53896774, 0.79503606, 0.27826503, 0.0], requires_grad=False)\n",
    "ang = get_angles(x)\n",
    "\n",
    "\n",
    "@qml.qnode(dev)\n",
    "def test(angles):\n",
    "\n",
    "    statepreparation(angles)\n",
    "    return qml.expval(qml.PauliZ(0))\n",
    "\n",
    "\n",
    "test(ang)\n",
    "\n",
    "print(\"x               : \", x)\n",
    "print(\"angles          : \", ang)\n",
    "print(\"amplitude vector: \", np.real(dev.state))"
   ]
  },
  {
   "cell_type": "code",
   "execution_count": 5,
   "id": "d998c96f",
   "metadata": {},
   "outputs": [],
   "source": [
    "def layer(W):\n",
    "    qml.Rot(W[0, 0], W[0, 1], W[0, 2], wires=0)\n",
    "    qml.Rot(W[1, 0], W[1, 1], W[1, 2], wires=1)\n",
    "    qml.CNOT(wires=[0, 1])"
   ]
  },
  {
   "cell_type": "code",
   "execution_count": 6,
   "id": "e10ac03a",
   "metadata": {},
   "outputs": [],
   "source": [
    "@qml.qnode(dev)\n",
    "def circuit(weights, angles):\n",
    "    statepreparation(angles)\n",
    "\n",
    "    for W in weights:\n",
    "        layer(W)\n",
    "\n",
    "    return qml.expval(qml.PauliZ(0))\n",
    "\n",
    "\n",
    "def variational_classifier(weights, bias, angles):\n",
    "    return circuit(weights, angles) + bias\n",
    "\n",
    "\n",
    "def cost(weights, bias, features, labels):\n",
    "    predictions = [variational_classifier(weights, bias, f) for f in features]\n",
    "    return square_loss(labels, predictions)"
   ]
  },
  {
   "cell_type": "code",
   "execution_count": 7,
   "id": "c4137e27",
   "metadata": {},
   "outputs": [
    {
     "name": "stdout",
     "output_type": "stream",
     "text": [
      "First X sample (original)  : [0.4  0.75]\n",
      "First X sample (padded)    : [0.4  0.75 0.3  0.  ]\n",
      "First X sample (normalized): [0.44376016 0.83205029 0.33282012 0.        ]\n",
      "First features sample      : [ 0.67858523 -0.          0.         -1.080839    1.080839  ]\n"
     ]
    }
   ],
   "source": [
    "data = np.loadtxt(\"variational classifier/iris_classes1and2_scaled.txt\")\n",
    "X = data[:, 0:2]\n",
    "print(\"First X sample (original)  :\", X[0])\n",
    "\n",
    "# pad the vectors to size 2^2 with constant values\n",
    "padding = 0.3 * np.ones((len(X), 1))\n",
    "X_pad = np.c_[np.c_[X, padding], np.zeros((len(X), 1))]\n",
    "print(\"First X sample (padded)    :\", X_pad[0])\n",
    "\n",
    "# normalize each input\n",
    "normalization = np.sqrt(np.sum(X_pad ** 2, -1))\n",
    "X_norm = (X_pad.T / normalization).T\n",
    "print(\"First X sample (normalized):\", X_norm[0])\n",
    "\n",
    "# angles for state preparation are new features\n",
    "features = np.array([get_angles(x) for x in X_norm], requires_grad=False)\n",
    "print(\"First features sample      :\", features[0])\n",
    "\n",
    "Y = data[:, -1]"
   ]
  },
  {
   "cell_type": "code",
   "execution_count": 8,
   "id": "c773476f",
   "metadata": {},
   "outputs": [
    {
     "data": {
      "image/png": "[encoded data removed]",
      "text/plain": [
       "<Figure size 432x288 with 1 Axes>"
      ]
     },
     "metadata": {
      "needs_background": "light"
     },
     "output_type": "display_data"
    },
    {
     "data": {
      "image/png": "[encoded data removed]",
      "text/plain": [
       "<Figure size 432x288 with 1 Axes>"
      ]
     },
     "metadata": {
      "needs_background": "light"
     },
     "output_type": "display_data"
    },
    {
     "data": {
      "image/png": "[encoded data removed]",
      "text/plain": [
       "<Figure size 432x288 with 1 Axes>"
      ]
     },
     "metadata": {
      "needs_background": "light"
     },
     "output_type": "display_data"
    }
   ],
   "source": [
    "import matplotlib.pyplot as plt\n",
    "\n",
    "plt.figure()\n",
    "plt.scatter(X[:, 0][Y == 1], X[:, 1][Y == 1], c=\"b\", marker=\"o\", edgecolors=\"k\")\n",
    "plt.scatter(X[:, 0][Y == -1], X[:, 1][Y == -1], c=\"r\", marker=\"o\", edgecolors=\"k\")\n",
    "plt.title(\"Original data\")\n",
    "plt.show()\n",
    "\n",
    "plt.figure()\n",
    "dim1 = 0\n",
    "dim2 = 1\n",
    "plt.scatter(\n",
    "    X_norm[:, dim1][Y == 1], X_norm[:, dim2][Y == 1], c=\"b\", marker=\"o\", edgecolors=\"k\"\n",
    ")\n",
    "plt.scatter(\n",
    "    X_norm[:, dim1][Y == -1], X_norm[:, dim2][Y == -1], c=\"r\", marker=\"o\", edgecolors=\"k\"\n",
    ")\n",
    "plt.title(\"Padded and normalised data (dims {} and {})\".format(dim1, dim2))\n",
    "plt.show()\n",
    "\n",
    "plt.figure()\n",
    "dim1 = 0\n",
    "dim2 = 3\n",
    "plt.scatter(\n",
    "    features[:, dim1][Y == 1], features[:, dim2][Y == 1], c=\"b\", marker=\"o\", edgecolors=\"k\"\n",
    ")\n",
    "plt.scatter(\n",
    "    features[:, dim1][Y == -1], features[:, dim2][Y == -1], c=\"r\", marker=\"o\", edgecolors=\"k\"\n",
    ")\n",
    "plt.title(\"Feature vectors (dims {} and {})\".format(dim1, dim2))\n",
    "plt.show()"
   ]
  },
  {
   "cell_type": "code",
   "execution_count": 9,
   "id": "a028ccea",
   "metadata": {},
   "outputs": [],
   "source": [
    "np.random.seed(0)\n",
    "num_data = len(Y)\n",
    "num_train = int(0.75 * num_data)\n",
    "index = np.random.permutation(range(num_data))\n",
    "feats_train = features[index[:num_train]]\n",
    "Y_train = Y[index[:num_train]]\n",
    "feats_val = features[index[num_train:]]\n",
    "Y_val = Y[index[num_train:]]\n",
    "\n",
    "# We need these later for plotting\n",
    "X_train = X[index[:num_train]]\n",
    "X_val = X[index[num_train:]]"
   ]
  },
  {
   "cell_type": "code",
   "execution_count": 10,
   "id": "e7f330d4",
   "metadata": {},
   "outputs": [],
   "source": [
    "num_qubits = 2\n",
    "num_layers = 6\n",
    "\n",
    "weights_init = 0.01 * np.random.randn(num_layers, num_qubits, 3, requires_grad=True)\n",
    "bias_init = np.array(0.0, requires_grad=True)"
   ]
  },
  {
   "cell_type": "code",
   "execution_count": 11,
   "id": "bb2fb249",
   "metadata": {},
   "outputs": [],
   "source": [
    "def square_loss(labels, predictions):\n",
    "    loss = 0\n",
    "    for l, p in zip(labels, predictions):\n",
    "        loss = loss + (l - p) ** 2\n",
    "\n",
    "    loss = loss / len(labels)\n",
    "    return loss"
   ]
  },
  {
   "cell_type": "code",
   "execution_count": 12,
   "id": "5bfa2db9",
   "metadata": {},
   "outputs": [],
   "source": [
    "def accuracy(labels, predictions):\n",
    "\n",
    "    loss = 0\n",
    "    for l, p in zip(labels, predictions):\n",
    "        if abs(l - p) < 1e-5:\n",
    "            loss = loss + 1\n",
    "    loss = loss / len(labels)\n",
    "\n",
    "    return loss"
   ]
  },
  {
   "cell_type": "code",
   "execution_count": 13,
   "id": "36c50d33",
   "metadata": {},
   "outputs": [],
   "source": [
    "def cost(weights, bias, X, Y):\n",
    "    predictions = [variational_classifier(weights, bias, x) for x in X]\n",
    "    return square_loss(Y, predictions)"
   ]
  },
  {
   "cell_type": "code",
   "execution_count": 14,
   "id": "48508db6",
   "metadata": {},
   "outputs": [
    {
     "name": "stdout",
     "output_type": "stream",
     "text": [
      "Iter:     1 | Cost: 1.4490948 | Acc train: 0.4933333 | Acc validation: 0.5600000 \n",
      "Iter:     2 | Cost: 1.3312057 | Acc train: 0.4933333 | Acc validation: 0.5600000 \n",
      "Iter:     3 | Cost: 1.1589332 | Acc train: 0.4533333 | Acc validation: 0.5600000 \n",
      "Iter:     4 | Cost: 0.9806934 | Acc train: 0.4800000 | Acc validation: 0.5600000 \n",
      "Iter:     5 | Cost: 0.8865623 | Acc train: 0.6133333 | Acc validation: 0.7600000 \n",
      "Iter:     6 | Cost: 0.8580769 | Acc train: 0.6933333 | Acc validation: 0.7600000 \n",
      "Iter:     7 | Cost: 0.8473132 | Acc train: 0.7200000 | Acc validation: 0.6800000 \n",
      "Iter:     8 | Cost: 0.8177533 | Acc train: 0.7333333 | Acc validation: 0.6800000 \n",
      "Iter:     9 | Cost: 0.8001100 | Acc train: 0.7466667 | Acc validation: 0.6800000 \n",
      "Iter:    10 | Cost: 0.7681053 | Acc train: 0.8000000 | Acc validation: 0.7600000 \n",
      "Iter:    11 | Cost: 0.7440015 | Acc train: 0.8133333 | Acc validation: 0.9600000 \n",
      "Iter:    12 | Cost: 0.7583777 | Acc train: 0.6800000 | Acc validation: 0.7600000 \n",
      "Iter:    13 | Cost: 0.7896372 | Acc train: 0.6533333 | Acc validation: 0.7200000 \n",
      "Iter:    14 | Cost: 0.8397790 | Acc train: 0.6133333 | Acc validation: 0.6400000 \n",
      "Iter:    15 | Cost: 0.8632423 | Acc train: 0.5733333 | Acc validation: 0.6000000 \n",
      "Iter:    16 | Cost: 0.8693517 | Acc train: 0.5733333 | Acc validation: 0.6000000 \n",
      "Iter:    17 | Cost: 0.8350625 | Acc train: 0.6266667 | Acc validation: 0.6400000 \n",
      "Iter:    18 | Cost: 0.7966558 | Acc train: 0.6266667 | Acc validation: 0.6400000 \n",
      "Iter:    19 | Cost: 0.7563381 | Acc train: 0.6800000 | Acc validation: 0.7600000 \n",
      "Iter:    20 | Cost: 0.7315459 | Acc train: 0.7733333 | Acc validation: 0.8000000 \n",
      "Iter:    21 | Cost: 0.7182359 | Acc train: 0.8800000 | Acc validation: 0.9600000 \n",
      "Iter:    22 | Cost: 0.7339132 | Acc train: 0.8133333 | Acc validation: 0.7200000 \n",
      "Iter:    23 | Cost: 0.7498571 | Acc train: 0.6533333 | Acc validation: 0.6400000 \n",
      "Iter:    24 | Cost: 0.7593763 | Acc train: 0.6000000 | Acc validation: 0.6400000 \n",
      "Iter:    25 | Cost: 0.7423832 | Acc train: 0.6800000 | Acc validation: 0.6400000 \n",
      "Iter:    26 | Cost: 0.7361186 | Acc train: 0.7333333 | Acc validation: 0.6800000 \n",
      "Iter:    27 | Cost: 0.7300201 | Acc train: 0.7600000 | Acc validation: 0.6800000 \n",
      "Iter:    28 | Cost: 0.7360923 | Acc train: 0.6666667 | Acc validation: 0.6400000 \n",
      "Iter:    29 | Cost: 0.7371325 | Acc train: 0.6533333 | Acc validation: 0.6400000 \n",
      "Iter:    30 | Cost: 0.7234520 | Acc train: 0.7466667 | Acc validation: 0.6800000 \n",
      "Iter:    31 | Cost: 0.7112089 | Acc train: 0.8133333 | Acc validation: 0.7600000 \n",
      "Iter:    32 | Cost: 0.6923495 | Acc train: 0.9200000 | Acc validation: 0.9200000 \n",
      "Iter:    33 | Cost: 0.6792510 | Acc train: 0.9200000 | Acc validation: 1.0000000 \n",
      "Iter:    34 | Cost: 0.6756795 | Acc train: 0.9200000 | Acc validation: 0.9600000 \n",
      "Iter:    35 | Cost: 0.6787274 | Acc train: 0.8933333 | Acc validation: 0.8000000 \n",
      "Iter:    36 | Cost: 0.6938181 | Acc train: 0.7466667 | Acc validation: 0.6800000 \n",
      "Iter:    37 | Cost: 0.6765225 | Acc train: 0.8266667 | Acc validation: 0.8000000 \n",
      "Iter:    38 | Cost: 0.6708057 | Acc train: 0.8266667 | Acc validation: 0.8000000 \n",
      "Iter:    39 | Cost: 0.6740248 | Acc train: 0.7600000 | Acc validation: 0.7200000 \n",
      "Iter:    40 | Cost: 0.6835014 | Acc train: 0.6666667 | Acc validation: 0.6400000 \n",
      "Iter:    41 | Cost: 0.6686811 | Acc train: 0.7333333 | Acc validation: 0.7200000 \n",
      "Iter:    42 | Cost: 0.6217025 | Acc train: 0.8933333 | Acc validation: 0.8400000 \n",
      "Iter:    43 | Cost: 0.6004307 | Acc train: 0.9066667 | Acc validation: 0.9200000 \n",
      "Iter:    44 | Cost: 0.5910768 | Acc train: 0.9066667 | Acc validation: 0.9200000 \n",
      "Iter:    45 | Cost: 0.5694770 | Acc train: 0.9200000 | Acc validation: 0.9600000 \n",
      "Iter:    46 | Cost: 0.5588385 | Acc train: 0.9200000 | Acc validation: 0.9600000 \n",
      "Iter:    47 | Cost: 0.5381473 | Acc train: 0.9466667 | Acc validation: 1.0000000 \n",
      "Iter:    48 | Cost: 0.5205658 | Acc train: 0.9466667 | Acc validation: 1.0000000 \n",
      "Iter:    49 | Cost: 0.5064983 | Acc train: 0.9466667 | Acc validation: 1.0000000 \n",
      "Iter:    50 | Cost: 0.4969733 | Acc train: 0.9466667 | Acc validation: 1.0000000 \n",
      "Iter:    51 | Cost: 0.4782257 | Acc train: 0.9466667 | Acc validation: 1.0000000 \n",
      "Iter:    52 | Cost: 0.4536953 | Acc train: 0.9600000 | Acc validation: 1.0000000 \n",
      "Iter:    53 | Cost: 0.4350300 | Acc train: 1.0000000 | Acc validation: 1.0000000 \n",
      "Iter:    54 | Cost: 0.4272909 | Acc train: 0.9733333 | Acc validation: 0.9600000 \n",
      "Iter:    55 | Cost: 0.4288929 | Acc train: 0.9466667 | Acc validation: 0.9200000 \n",
      "Iter:    56 | Cost: 0.4261037 | Acc train: 0.9333333 | Acc validation: 0.9200000 \n",
      "Iter:    57 | Cost: 0.4082663 | Acc train: 0.9466667 | Acc validation: 0.9200000 \n",
      "Iter:    58 | Cost: 0.3698736 | Acc train: 0.9600000 | Acc validation: 0.9200000 \n",
      "Iter:    59 | Cost: 0.3420686 | Acc train: 1.0000000 | Acc validation: 1.0000000 \n",
      "Iter:    60 | Cost: 0.3253480 | Acc train: 1.0000000 | Acc validation: 1.0000000 \n"
     ]
    }
   ],
   "source": [
    "opt = NesterovMomentumOptimizer(0.01)\n",
    "batch_size = 5\n",
    "\n",
    "# train the variational classifier\n",
    "weights = weights_init\n",
    "bias = bias_init\n",
    "for it in range(60):\n",
    "\n",
    "    # Update the weights by one optimizer step\n",
    "    batch_index = np.random.randint(0, num_train, (batch_size,))\n",
    "    feats_train_batch = feats_train[batch_index]\n",
    "    Y_train_batch = Y_train[batch_index]\n",
    "    weights, bias, _, _ = opt.step(cost, weights, bias, feats_train_batch, Y_train_batch)\n",
    "\n",
    "    # Compute predictions on train and validation set\n",
    "    predictions_train = [np.sign(variational_classifier(weights, bias, f)) for f in feats_train]\n",
    "    predictions_val = [np.sign(variational_classifier(weights, bias, f)) for f in feats_val]\n",
    "\n",
    "    # Compute accuracy on train and validation set\n",
    "    acc_train = accuracy(Y_train, predictions_train)\n",
    "    acc_val = accuracy(Y_val, predictions_val)\n",
    "\n",
    "    print(\n",
    "        \"Iter: {:5d} | Cost: {:0.7f} | Acc train: {:0.7f} | Acc validation: {:0.7f} \"\n",
    "        \"\".format(it + 1, cost(weights, bias, features, Y), acc_train, acc_val)\n",
    "    )"
   ]
  },
  {
   "cell_type": "code",
   "execution_count": 15,
   "id": "838e22a3",
   "metadata": {},
   "outputs": [
    {
     "data": {
      "image/png": "[encoded data removed]",
      "text/plain": [
       "<Figure size 432x288 with 2 Axes>"
      ]
     },
     "metadata": {
      "needs_background": "light"
     },
     "output_type": "display_data"
    }
   ],
   "source": [
    "plt.figure()\n",
    "cm = plt.cm.RdBu\n",
    "\n",
    "# make data for decision regions\n",
    "xx, yy = np.meshgrid(np.linspace(0.0, 1.5, 20), np.linspace(0.0, 1.5, 20))\n",
    "X_grid = [np.array([x, y]) for x, y in zip(xx.flatten(), yy.flatten())]\n",
    "\n",
    "# preprocess grid points like data inputs above\n",
    "padding = 0.3 * np.ones((len(X_grid), 1))\n",
    "X_grid = np.c_[np.c_[X_grid, padding], np.zeros((len(X_grid), 1))]  # pad each input\n",
    "normalization = np.sqrt(np.sum(X_grid ** 2, -1))\n",
    "X_grid = (X_grid.T / normalization).T  # normalize each input\n",
    "features_grid = np.array(\n",
    "    [get_angles(x) for x in X_grid]\n",
    ")  # angles for state preparation are new features\n",
    "predictions_grid = [variational_classifier(weights, bias, f) for f in features_grid]\n",
    "Z = np.reshape(predictions_grid, xx.shape)\n",
    "\n",
    "# plot decision regions\n",
    "cnt = plt.contourf(\n",
    "    xx, yy, Z, levels=np.arange(-1, 1.1, 0.1), cmap=cm, alpha=0.8, extend=\"both\"\n",
    ")\n",
    "plt.contour(\n",
    "    xx, yy, Z, levels=[0.0], colors=(\"black\",), linestyles=(\"--\",), linewidths=(0.8,)\n",
    ")\n",
    "plt.colorbar(cnt, ticks=[-1, 0, 1])\n",
    "\n",
    "# plot data\n",
    "plt.scatter(\n",
    "    X_train[:, 0][Y_train == 1],\n",
    "    X_train[:, 1][Y_train == 1],\n",
    "    c=\"b\",\n",
    "    marker=\"o\",\n",
    "    edgecolors=\"k\",\n",
    "    label=\"class 1 train\",\n",
    ")\n",
    "plt.scatter(\n",
    "    X_val[:, 0][Y_val == 1],\n",
    "    X_val[:, 1][Y_val == 1],\n",
    "    c=\"b\",\n",
    "    marker=\"^\",\n",
    "    edgecolors=\"k\",\n",
    "    label=\"class 1 validation\",\n",
    ")\n",
    "plt.scatter(\n",
    "    X_train[:, 0][Y_train == -1],\n",
    "    X_train[:, 1][Y_train == -1],\n",
    "    c=\"r\",\n",
    "    marker=\"o\",\n",
    "    edgecolors=\"k\",\n",
    "    label=\"class -1 train\",\n",
    ")\n",
    "plt.scatter(\n",
    "    X_val[:, 0][Y_val == -1],\n",
    "    X_val[:, 1][Y_val == -1],\n",
    "    c=\"r\",\n",
    "    marker=\"^\",\n",
    "    edgecolors=\"k\",\n",
    "    label=\"class -1 validation\",\n",
    ")\n",
    "\n",
    "plt.legend()\n",
    "plt.show()"
   ]
  },
  {
   "cell_type": "code",
   "execution_count": null,
   "id": "3798920e",
   "metadata": {},
   "outputs": [],
   "source": []
  }
 ],
 "metadata": {
  "kernelspec": {
   "display_name": "Python 3 (ipykernel)",
   "language": "python",
   "name": "python3"
  },
  "language_info": {
   "codemirror_mode": {
    "name": "ipython",
    "version": 3
   },
   "file_extension": ".py",
   "mimetype": "text/x-python",
   "name": "python",
   "nbconvert_exporter": "python",
   "pygments_lexer": "ipython3",
   "version": "3.9.7"
  }
 },
 "nbformat": 4,
 "nbformat_minor": 5
}
